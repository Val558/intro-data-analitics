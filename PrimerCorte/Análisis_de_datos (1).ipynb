{
  "nbformat": 4,
  "nbformat_minor": 0,
  "metadata": {
    "colab": {
      "provenance": [],
      "toc_visible": true
    },
    "kernelspec": {
      "name": "python3",
      "display_name": "Python 3"
    },
    "language_info": {
      "name": "python"
    }
  },
  "cells": [
    {
      "cell_type": "markdown",
      "source": [
        "#Mi primer análisis"
      ],
      "metadata": {
        "id": "SF_5vTWsOHiW"
      }
    },
    {
      "cell_type": "markdown",
      "source": [
        "##Sección 1"
      ],
      "metadata": {
        "id": "Hr0NjrOdU7vB"
      }
    },
    {
      "cell_type": "code",
      "source": [
        "2*15"
      ],
      "metadata": {
        "colab": {
          "base_uri": "https://localhost:8080/"
        },
        "id": "fmCbUG7wOKtE",
        "outputId": "09a123c3-69fc-423d-9c05-d37a92fadc4f"
      },
      "execution_count": null,
      "outputs": [
        {
          "output_type": "execute_result",
          "data": {
            "text/plain": [
              "30"
            ]
          },
          "metadata": {},
          "execution_count": 2
        }
      ]
    },
    {
      "cell_type": "markdown",
      "source": [
        "###Sección 2"
      ],
      "metadata": {
        "id": "HtKlMoK4VGlu"
      }
    },
    {
      "cell_type": "code",
      "source": [
        "print(\"Hola mundo!\")"
      ],
      "metadata": {
        "colab": {
          "base_uri": "https://localhost:8080/"
        },
        "id": "pEgff20DP9Kz",
        "outputId": "f0cf8950-dadb-448b-a99a-2f64ff19db8e"
      },
      "execution_count": null,
      "outputs": [
        {
          "output_type": "stream",
          "name": "stdout",
          "text": [
            "Hola mundo!\n"
          ]
        }
      ]
    },
    {
      "cell_type": "code",
      "source": [],
      "metadata": {
        "id": "o6t0f-UgUzsQ"
      },
      "execution_count": null,
      "outputs": []
    },
    {
      "cell_type": "markdown",
      "source": [],
      "metadata": {
        "id": "ZSQt33DyWI1m"
      }
    }
  ]
}